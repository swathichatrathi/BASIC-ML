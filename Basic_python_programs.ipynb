{
  "nbformat": 4,
  "nbformat_minor": 0,
  "metadata": {
    "colab": {
      "name": "Basic python programs ",
      "provenance": [],
      "authorship_tag": "ABX9TyPcuDlFLljJqMGzN/k60Vir",
      "include_colab_link": true
    },
    "kernelspec": {
      "name": "python3",
      "display_name": "Python 3"
    },
    "language_info": {
      "name": "python"
    }
  },
  "cells": [
    {
      "cell_type": "markdown",
      "metadata": {
        "id": "view-in-github",
        "colab_type": "text"
      },
      "source": [
        "<a href=\"https://colab.research.google.com/github/swathichatrathi/BASIC-ML/blob/main/Basic_python_programs.ipynb\" target=\"_parent\"><img src=\"https://colab.research.google.com/assets/colab-badge.svg\" alt=\"Open In Colab\"/></a>"
      ]
    },
    {
      "cell_type": "code",
      "metadata": {
        "id": "imdTocGr3cLo"
      },
      "source": [
        "PYTHON PROGRAMS \n",
        "20PA1A0527 : CH.SWATHI "
      ],
      "execution_count": null,
      "outputs": []
    },
    {
      "cell_type": "code",
      "metadata": {
        "id": "5aR9-16L6384"
      },
      "source": [
        "1. EVEN OR ODD PROGRAM IN PYTHON"
      ],
      "execution_count": null,
      "outputs": []
    },
    {
      "cell_type": "code",
      "metadata": {
        "colab": {
          "base_uri": "https://localhost:8080/"
        },
        "id": "7cHRHKH07J3q",
        "outputId": "4e06adb7-11aa-4976-e81f-7655e711db98"
      },
      "source": [
        "number=int(input())\n",
        "if (number%2==0): \n",
        "  print('GIVEN NUMBER IS AN EVEN NUMBER')\n",
        "else: \n",
        "  print('GIVEN NUMBER IS ODD NUMBER')\n",
        "  "
      ],
      "execution_count": 3,
      "outputs": [
        {
          "output_type": "stream",
          "text": [
            "54\n",
            "GIVEN NUMBER IS AN EVEN NUMBER\n"
          ],
          "name": "stdout"
        }
      ]
    },
    {
      "cell_type": "code",
      "metadata": {
        "id": "QCbfiSR97qDL"
      },
      "source": [
        "2. LEAP YEAR OR NOT "
      ],
      "execution_count": null,
      "outputs": []
    },
    {
      "cell_type": "code",
      "metadata": {
        "colab": {
          "base_uri": "https://localhost:8080/"
        },
        "id": "_KMpjaBQ8Bvm",
        "outputId": "2595b6df-d236-430c-a568-b93d16075096"
      },
      "source": [
        "year=int(input())\n",
        "if (year%400==0) or (year%4==0 and year%100!=0): \n",
        "  print('GIVEN YEAR IS A LEAP YEAR')\n",
        "else: \n",
        "  print('GIVEN YEAR IS NOT A LEAP YEAR')\n",
        "  "
      ],
      "execution_count": 5,
      "outputs": [
        {
          "output_type": "stream",
          "text": [
            "2021\n",
            "GIVEN YEAR IS NOT A LEAP YEAR\n"
          ],
          "name": "stdout"
        }
      ]
    },
    {
      "cell_type": "code",
      "metadata": {
        "id": "PBeIk_8X76pU"
      },
      "source": [
        "3.SUM OF FIRST N NATURAL NUMBERS"
      ],
      "execution_count": null,
      "outputs": []
    },
    {
      "cell_type": "code",
      "metadata": {
        "colab": {
          "base_uri": "https://localhost:8080/"
        },
        "id": "cArQcaD49BBC",
        "outputId": "98016205-5ad7-43b9-ed6c-f91e0a3d4adc"
      },
      "source": [
        "n=int(input())\n",
        "sum=0 \n",
        "for i in range(1,n+1): \n",
        "  sum+=i \n",
        "print(\"SUM OF FIRST\",n,\"NATURAL NUMBERS IS:\",sum)"
      ],
      "execution_count": 6,
      "outputs": [
        {
          "output_type": "stream",
          "text": [
            "10\n",
            "SUM OF FIRST 10 NATURAL NUMBERS IS: 55\n"
          ],
          "name": "stdout"
        }
      ]
    }
  ]
}